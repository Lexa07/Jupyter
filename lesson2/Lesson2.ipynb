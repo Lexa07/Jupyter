{
 "cells": [
  {
   "cell_type": "markdown",
   "id": "0d00e389",
   "metadata": {},
   "source": [
    "# Тема “Вычисления с помощью Numpy”\n",
    "\n",
    "\n"
   ]
  },
  {
   "cell_type": "markdown",
   "id": "16cf4e55",
   "metadata": {},
   "source": [
    "### Задание 1\n",
    "Импортируйте библиотеку Numpy и дайте ей псевдоним np.\n",
    "Создайте массив Numpy под названием a размером 5x2, то есть состоящий из 5 строк и 2 столбцов. \n",
    "Первый столбец должен содержать числа 1, 2, 3, 3, 1, а второй - числа 6, 8, 11, 10, 7. Будем \n",
    "считать, что каждый столбец - это признак, а строка - наблюдение. Затем найдите среднее \n",
    "значение по каждому признаку, используя метод mean массива Numpy. Результат запишите в массив \n",
    "mean_a, в нем должно быть 2 элемента."
   ]
  },
  {
   "cell_type": "code",
   "execution_count": 1,
   "id": "2b352516",
   "metadata": {},
   "outputs": [
    {
     "name": "stdout",
     "output_type": "stream",
     "text": [
      "[2.  8.4]\n"
     ]
    }
   ],
   "source": [
    "import numpy as np\n",
    "m = np.array([[1, 2, 3, 3, 1], [6, 8, 11, 10, 7]])\n",
    "a = m.transpose()\n",
    "mean_a = a.mean(0)\n",
    "c = mean_a * 2\n",
    "print(mean_a)"
   ]
  },
  {
   "cell_type": "markdown",
   "id": "5e1380b5",
   "metadata": {},
   "source": [
    "### Задание 2\n",
    "Вычислите массив a_centered, отняв от значений массива “а” средние значения соответствующих \n",
    "признаков, содержащиеся в массиве mean_a. Вычисление должно производиться в одно действие. \n",
    "Получившийся массив должен иметь размер 5x2."
   ]
  },
  {
   "cell_type": "code",
   "execution_count": 2,
   "id": "d7860470",
   "metadata": {},
   "outputs": [
    {
     "name": "stdout",
     "output_type": "stream",
     "text": [
      "[[-1.  -2.4]\n",
      " [ 0.  -0.4]\n",
      " [ 1.   2.6]\n",
      " [ 1.   1.6]\n",
      " [-1.  -1.4]]\n"
     ]
    }
   ],
   "source": [
    "a_centered = a - mean_a\n",
    "print(a_centered)"
   ]
  },
  {
   "cell_type": "markdown",
   "id": "b8ea328f",
   "metadata": {},
   "source": [
    "### Задание 3\n",
    "Найдите скалярное произведение столбцов массива a_centered. В результате должна получиться \n",
    "величина a_centered_sp. Затем поделите a_centered_sp на N-1, где N - число наблюдений."
   ]
  },
  {
   "cell_type": "code",
   "execution_count": 3,
   "id": "d8ff596a",
   "metadata": {},
   "outputs": [
    {
     "name": "stdout",
     "output_type": "stream",
     "text": [
      "8.0\n",
      "5\n",
      "2.0\n"
     ]
    }
   ],
   "source": [
    "a_centered_sp = a_centered[0 :, 0] @ a_centered[0 :, 1]\n",
    "\n",
    "N = a.shape[0]\n",
    "\n",
    "del_a = a_centered_sp/(N - 1)\n",
    "\n",
    "print(a_centered_sp)\n",
    "print(N)\n",
    "print(del_a)"
   ]
  },
  {
   "cell_type": "markdown",
   "id": "ec855cd1",
   "metadata": {},
   "source": [
    "### Задание 4**\n",
    "Число, которое мы получили в конце задания 3 является ковариацией двух признаков, \n",
    "содержащихся в массиве “а”. В задании 4 мы делили сумму произведений центрированных \n",
    "признаков на N-1, а не на N, поэтому полученная нами величина является несмещенной \n",
    "оценкой ковариации.\n",
    "Подробнее узнать о ковариации можно здесь:\n",
    "Выборочная ковариация и выборочная дисперсия — Студопедия\n",
    "В этом задании проверьте получившееся число, вычислив ковариацию еще одним способом - \n",
    "с помощью функции np.cov. В качестве аргумента m функция np.cov должна принимать \n",
    "транспонированный массив “a”. В получившейся ковариационной матрице \n",
    "(массив Numpy размером 2x2) искомое значение ковариации будет равно элементу в \n",
    "строке с индексом 0 и столбце с индексом 1."
   ]
  },
  {
   "cell_type": "code",
   "execution_count": 4,
   "id": "64992c5b",
   "metadata": {},
   "outputs": [
    {
     "name": "stdout",
     "output_type": "stream",
     "text": [
      "[[1.  2. ]\n",
      " [2.  4.3]]\n"
     ]
    }
   ],
   "source": [
    "cov_m = np.cov(m)\n",
    "print(cov_m)"
   ]
  },
  {
   "cell_type": "markdown",
   "id": "5e9fc5eb",
   "metadata": {},
   "source": [
    "# Тема “Работа с данными в Pandas”"
   ]
  },
  {
   "cell_type": "markdown",
   "id": "de050995",
   "metadata": {},
   "source": [
    "### Задание 1\n",
    "Импортируйте библиотеку Pandas и дайте ей псевдоним pd. Создайте датафрейм authors \n",
    "со столбцами author_id и author_name, в которых соответственно содержатся данные: \n",
    "[1, 2, 3] и ['Тургенев', 'Чехов', 'Островский'].\n",
    "Затем создайте датафрейм book cо столбцами author_id, book_title и price, в которых \n",
    "соответственно содержатся данные:  \n",
    "[1, 1, 1, 2, 2, 3, 3],\n",
    "['Отцы и дети', 'Рудин', 'Дворянское гнездо', 'Толстый и тонкий', 'Дама с собачкой',\n",
    "'Гроза', 'Таланты и поклонники'],\n",
    "[450, 300, 350, 500, 450, 370, 290].\n"
   ]
  },
  {
   "cell_type": "code",
   "execution_count": 5,
   "id": "1f6603f8",
   "metadata": {},
   "outputs": [
    {
     "name": "stdout",
     "output_type": "stream",
     "text": [
      "   author_id author_name\n",
      "0          1    Тургенев\n",
      "1          2       Чехов\n",
      "2          3  Островский\n",
      "----------------------------------------------------------------------------------------------------\n",
      "   author_id            book_title  price\n",
      "0          1           Отцы и дети    450\n",
      "1          1                 Рудин    300\n",
      "2          1     Дворянское гнездо    350\n",
      "3          2      Толстый и тонкий    500\n",
      "4          2       Дама с собачкой    450\n",
      "5          3                 Гроза    370\n",
      "6          3  Таланты и поклонники    290\n"
     ]
    }
   ],
   "source": [
    "import pandas as pd\n",
    "\n",
    "authors = pd.DataFrame({'author_id':[1, 2, 3], 'author_name':['Тургенев', 'Чехов', 'Островский']}, \n",
    "                       columns=['author_id', 'author_name'])\n",
    "print(authors)\n",
    "print(100*'-')\n",
    "\n",
    "book = pd.DataFrame({'author_id':[1, 1, 1, 2, 2, 3, 3],\n",
    "                     \n",
    "                     'book_title':\n",
    "                     ['Отцы и дети', 'Рудин', 'Дворянское гнездо', 'Толстый и тонкий', \n",
    "                                   'Дама с собачкой', 'Гроза', 'Таланты и поклонники'], \n",
    "                     \n",
    "                     'price':\n",
    "                     [450, 300, 350, 500, 450, 370, 290]}, columns=['author_id', 'book_title', 'price'])\n",
    "print(book)"
   ]
  },
  {
   "cell_type": "markdown",
   "id": "e5de022c",
   "metadata": {},
   "source": [
    "### Задание 2\n",
    "Получите датафрейм authors_price, соединив датафреймы authors и books по полю author_id.\n"
   ]
  },
  {
   "cell_type": "code",
   "execution_count": 6,
   "id": "02f3c8f1",
   "metadata": {},
   "outputs": [
    {
     "name": "stdout",
     "output_type": "stream",
     "text": [
      "   author_id author_name            book_title  price\n",
      "0          1    Тургенев           Отцы и дети    450\n",
      "1          1    Тургенев                 Рудин    300\n",
      "2          1    Тургенев     Дворянское гнездо    350\n",
      "3          2       Чехов      Толстый и тонкий    500\n",
      "4          2       Чехов       Дама с собачкой    450\n",
      "5          3  Островский                 Гроза    370\n",
      "6          3  Островский  Таланты и поклонники    290\n"
     ]
    }
   ],
   "source": [
    "authors_price = pd.merge(authors, book, on = 'author_id', how = 'outer') \n",
    "\n",
    "print(authors_price)\n",
    "       "
   ]
  },
  {
   "cell_type": "markdown",
   "id": "8225b1bf",
   "metadata": {},
   "source": [
    "### Задание 3\n",
    "Создайте датафрейм top5, в котором содержатся строки из authors_price с пятью самыми \n",
    "дорогими книгами."
   ]
  },
  {
   "cell_type": "code",
   "execution_count": 7,
   "id": "1ea0447e",
   "metadata": {},
   "outputs": [
    {
     "name": "stdout",
     "output_type": "stream",
     "text": [
      "   author_id author_name         book_title  price\n",
      "3          2       Чехов   Толстый и тонкий    500\n",
      "0          1    Тургенев        Отцы и дети    450\n",
      "4          2       Чехов    Дама с собачкой    450\n",
      "5          3  Островский              Гроза    370\n",
      "2          1    Тургенев  Дворянское гнездо    350\n"
     ]
    }
   ],
   "source": [
    "top5 = authors_price.nlargest(5, 'price')\n",
    "print(top5)"
   ]
  },
  {
   "cell_type": "markdown",
   "id": "74587fde",
   "metadata": {},
   "source": [
    "### Задание 4\n",
    "Создайте датафрейм authors_stat на основе информации из authors_price. В датафрейме \n",
    "authors_stat должны быть четыре столбца:\n",
    "author_name, min_price, max_price и mean_price,\n",
    "в которых должны содержаться соответственно имя автора, минимальная, максимальная и \n",
    "средняя цена на книги этого автора."
   ]
  },
  {
   "cell_type": "code",
   "execution_count": 8,
   "id": "869b6406",
   "metadata": {},
   "outputs": [
    {
     "name": "stdout",
     "output_type": "stream",
     "text": [
      "                                           \n",
      "            min_price max_price  mean_price\n",
      "author_name                                \n",
      "Островский        290       370  330.000000\n",
      "Тургенев          300       450  366.666667\n",
      "Чехов             450       500  475.000000\n"
     ]
    }
   ],
   "source": [
    " \n",
    "group_authors = authors_price.groupby('author_name').agg({'price':['min', 'max', 'mean']})\n",
    "\n",
    "authors_stat = group_authors.rename(columns={'price':'', 'min':'min_price', 'max':'max_price', 'mean':'mean_price'})\n",
    "print(authors_stat)\n"
   ]
  },
  {
   "cell_type": "markdown",
   "id": "43dacc2e",
   "metadata": {},
   "source": [
    "### Задание 5**\n",
    "Создайте новый столбец в датафрейме authors_price под названием cover, в нем будут \n",
    "располагаться данные о том, какая обложка у данной книги - твердая или мягкая. В этот \n",
    "столбец поместите данные из следующего списка:\n",
    "['твердая', 'мягкая', 'мягкая', 'твердая', 'твердая', 'мягкая', 'мягкая'].\n",
    "Просмотрите документацию по функции pd.pivot_table с помощью вопросительного знака.\n",
    "Для каждого автора посчитайте суммарную стоимость книг в твердой и мягкой обложке. \n",
    "Используйте для этого функцию pd.pivot_table. При этом столбцы должны называться \n",
    "\"твердая\" и \"мягкая\", а индексами должны быть фамилии авторов. Пропущенные значения \n",
    "стоимостей заполните нулями, при необходимости загрузите библиотеку Numpy.\n",
    "Назовите полученный датасет book_info и сохраните его в формат pickle под названием \n",
    "\"book_info.pkl\". Затем загрузите из этого файла датафрейм и назовите его book_info2. \n",
    "Удостоверьтесь, что датафреймы book_info и book_info2 идентичны."
   ]
  },
  {
   "cell_type": "code",
   "execution_count": 10,
   "id": "154b1825",
   "metadata": {},
   "outputs": [
    {
     "name": "stdout",
     "output_type": "stream",
     "text": [
      "   author_id author_name            book_title  price    cover\n",
      "0          1    Тургенев           Отцы и дети    450  твердая\n",
      "1          1    Тургенев                 Рудин    300   мягкая\n",
      "2          1    Тургенев     Дворянское гнездо    350   мягкая\n",
      "3          2       Чехов      Толстый и тонкий    500  твердая\n",
      "4          2       Чехов       Дама с собачкой    450  твердая\n",
      "5          3  Островский                 Гроза    370   мягкая\n",
      "6          3  Островский  Таланты и поклонники    290   мягкая\n",
      "****************************************************************************************************\n",
      "cover        мягкая  твердая\n",
      "author_name                 \n",
      "Островский      660        0\n",
      "Тургенев        650      450\n",
      "Чехов             0      950\n",
      "****************************************************************************************************\n",
      "****************************************************************************************************\n",
      "cover        мягкая  твердая\n",
      "author_name                 \n",
      "Островский      660        0\n",
      "Тургенев        650      450\n",
      "Чехов             0      950\n"
     ]
    }
   ],
   "source": [
    "authors_price['cover']=['твердая', 'мягкая', 'мягкая', 'твердая', 'твердая', 'мягкая', 'мягкая']\n",
    "print(authors_price)\n",
    "    \n",
    "print(100*'*') \n",
    "\n",
    "book_info = pd.pivot_table(authors_price, values='price', index=['author_name'],\n",
    "                        columns=['cover'], aggfunc=np.sum, fill_value=0)    \n",
    "print(book_info) \n",
    "\n",
    "print(100*'*')\n",
    "\n",
    "pd.to_pickle(book_info, \"book_info.pkl\")  \n",
    "\n",
    "book_info2 = pd.read_pickle(\"book_info.pkl\")  \n",
    "\n",
    "print(100*'*')\n",
    "\n",
    "print(book_info2)\n"
   ]
  }
 ],
 "metadata": {
  "kernelspec": {
   "display_name": "Python 3 (ipykernel)",
   "language": "python",
   "name": "python3"
  },
  "language_info": {
   "codemirror_mode": {
    "name": "ipython",
    "version": 3
   },
   "file_extension": ".py",
   "mimetype": "text/x-python",
   "name": "python",
   "nbconvert_exporter": "python",
   "pygments_lexer": "ipython3",
   "version": "3.9.7"
  }
 },
 "nbformat": 4,
 "nbformat_minor": 5
}
